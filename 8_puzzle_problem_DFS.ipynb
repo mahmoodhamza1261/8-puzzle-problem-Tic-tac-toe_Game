{
  "nbformat": 4,
  "nbformat_minor": 0,
  "metadata": {
    "colab": {
      "provenance": [],
      "authorship_tag": "ABX9TyMT+zz4D4G/ujLNZqqVn5DT",
      "include_colab_link": true
    },
    "kernelspec": {
      "name": "python3",
      "display_name": "Python 3"
    },
    "language_info": {
      "name": "python"
    }
  },
  "cells": [
    {
      "cell_type": "markdown",
      "metadata": {
        "id": "view-in-github",
        "colab_type": "text"
      },
      "source": [
        "<a href=\"https://colab.research.google.com/github/mahmoodhamza1261/New-folder--2-/blob/master/8_puzzle_problem_DFS.ipynb\" target=\"_parent\"><img src=\"https://colab.research.google.com/assets/colab-badge.svg\" alt=\"Open In Colab\"/></a>"
      ]
    },
    {
      "cell_type": "code",
      "execution_count": 1,
      "metadata": {
        "colab": {
          "base_uri": "https://localhost:8080/"
        },
        "id": "q6jPA1tYUXba",
        "outputId": "933644fd-aed6-42bb-8223-07a5d5cca69d"
      },
      "outputs": [
        {
          "output_type": "stream",
          "name": "stdout",
          "text": [
            "[[1, 2, 3], [4, 0, 5], [6, 7, 8]]\n",
            "\n",
            "[[1, 2, 3], [4, 5, 0], [6, 7, 8]]\n",
            "\n",
            "[[1, 2, 3], [4, 5, 8], [6, 7, 0]]\n",
            "\n",
            "[[1, 2, 3], [4, 5, 8], [6, 0, 7]]\n",
            "\n",
            "[[1, 2, 3], [4, 5, 8], [0, 6, 7]]\n",
            "\n",
            "[[1, 2, 3], [0, 5, 8], [4, 6, 7]]\n",
            "\n",
            "[[1, 2, 3], [5, 0, 8], [4, 6, 7]]\n",
            "\n",
            "[[1, 2, 3], [5, 6, 8], [4, 0, 7]]\n",
            "\n",
            "[[1, 2, 3], [5, 6, 8], [4, 7, 0]]\n",
            "\n",
            "[[1, 2, 3], [5, 6, 0], [4, 7, 8]]\n",
            "\n",
            "[[1, 2, 3], [5, 0, 6], [4, 7, 8]]\n",
            "\n",
            "[[1, 2, 3], [0, 5, 6], [4, 7, 8]]\n",
            "\n",
            "[[1, 2, 3], [4, 5, 6], [0, 7, 8]]\n",
            "\n",
            "[[1, 2, 3], [4, 5, 6], [7, 0, 8]]\n",
            "\n",
            "[[1, 2, 3], [4, 5, 6], [7, 8, 0]]\n",
            "\n"
          ]
        }
      ],
      "source": [
        "import sys\n",
        "\n",
        "# Define the initial and goal states\n",
        "initial_state = [[1, 2, 3], [4, 0, 5], [6, 7, 8]]\n",
        "goal_state = [[1, 2, 3], [4, 5, 6], [7, 8, 0]]\n",
        "\n",
        "# Define the actions that can be taken\n",
        "actions = {'Up': (-1, 0), 'Down': (1, 0), 'Left': (0, -1), 'Right': (0, 1)}\n",
        "\n",
        "# Define a function to find the blank tile in the state\n",
        "def find_blank(state):\n",
        "    for i in range(len(state)):\n",
        "        for j in range(len(state[0])):\n",
        "            if state[i][j] == 0:\n",
        "                return (i, j)\n",
        "\n",
        "# Define a function to check if a state is the goal state\n",
        "def is_goal(state):\n",
        "    return state == goal_state\n",
        "\n",
        "# Define a function to apply an action to a state\n",
        "def apply_action(state, action):\n",
        "    blank_pos = find_blank(state)\n",
        "    new_pos = (blank_pos[0] + actions[action][0], blank_pos[1] + actions[action][1])\n",
        "    if 0 <= new_pos[0] < len(state) and 0 <= new_pos[1] < len(state[0]):\n",
        "        new_state = [row[:] for row in state]\n",
        "        new_state[blank_pos[0]][blank_pos[1]] = new_state[new_pos[0]][new_pos[1]]\n",
        "        new_state[new_pos[0]][new_pos[1]] = 0\n",
        "        return new_state\n",
        "    else:\n",
        "        return None\n",
        "\n",
        "# Define a function to perform IDDFS\n",
        "def iddfs(state):\n",
        "    depth = 0\n",
        "    while True:\n",
        "        result = dls(state, [], depth)\n",
        "        if result is not None:\n",
        "            return result\n",
        "        depth += 1\n",
        "\n",
        "# Define a recursive function to perform DLS\n",
        "def dls(state, path, depth):\n",
        "    if depth == 0:\n",
        "        if is_goal(state):\n",
        "            return path + [state]\n",
        "        else:\n",
        "            return None\n",
        "    for action in actions:\n",
        "        new_state = apply_action(state, action)\n",
        "        if new_state is not None and new_state not in path:\n",
        "            new_path = path + [state]\n",
        "            result = dls(new_state, new_path, depth - 1)\n",
        "            if result is not None:\n",
        "                return result\n",
        "    return None\n",
        "\n",
        "# Call the iddfs function with the initial state\n",
        "result = iddfs(initial_state)\n",
        "\n",
        "# Print the solution path\n",
        "if result is not None:\n",
        "    for state in result:\n",
        "        print(state)\n",
        "        print()\n",
        "else:\n",
        "    print(\"No solution found.\")\n"
      ]
    }
  ]
}