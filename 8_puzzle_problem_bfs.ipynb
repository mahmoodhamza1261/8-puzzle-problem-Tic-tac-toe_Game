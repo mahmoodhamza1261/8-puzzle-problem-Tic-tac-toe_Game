{
  "nbformat": 4,
  "nbformat_minor": 0,
  "metadata": {
    "colab": {
      "provenance": [],
      "authorship_tag": "ABX9TyMJ9rGVyOwJhKO09RPHsDcT",
      "include_colab_link": true
    },
    "kernelspec": {
      "name": "python3",
      "display_name": "Python 3"
    },
    "language_info": {
      "name": "python"
    }
  },
  "cells": [
    {
      "cell_type": "markdown",
      "metadata": {
        "id": "view-in-github",
        "colab_type": "text"
      },
      "source": [
        "<a href=\"https://colab.research.google.com/github/mahmoodhamza1261/New-folder--2-/blob/master/8_puzzle_problem_bfs.ipynb\" target=\"_parent\"><img src=\"https://colab.research.google.com/assets/colab-badge.svg\" alt=\"Open In Colab\"/></a>"
      ]
    },
    {
      "cell_type": "code",
      "execution_count": 7,
      "metadata": {
        "colab": {
          "base_uri": "https://localhost:8080/"
        },
        "id": "q6jPA1tYUXba",
        "outputId": "0acc350e-3951-44fc-a58a-41be31924607"
      },
      "outputs": [
        {
          "output_type": "stream",
          "name": "stdout",
          "text": [
            "Initial state:\n",
            "[1, 2, 3]\n",
            "[4, 5, 6]\n",
            "[0, 7, 8]\n",
            "\n",
            "\n",
            "Goal state found!\n",
            "Solution:\n",
            "[1, 2, 3]\n",
            "[4, 5, 6]\n",
            "[0, 7, 8]\n",
            "\n",
            "\n",
            "[1, 2, 3]\n",
            "[4, 5, 6]\n",
            "[7, 0, 8]\n",
            "\n",
            "\n",
            "[1, 2, 3]\n",
            "[4, 5, 6]\n",
            "[7, 8, 0]\n",
            "\n",
            "\n"
          ]
        }
      ],
      "source": [
        "import copy\n",
        "from queue import Queue\n",
        "\n",
        "# Define the goal state\n",
        "GOAL_STATE = [[1, 2, 3], [4, 5, 6], [7, 8, 0]]\n",
        "\n",
        "def display_state(state):\n",
        "    \"\"\"Print the current state of the puzzle\"\"\"\n",
        "    for row in state:\n",
        "        print(row)\n",
        "    print(\"\\n\")\n",
        "\n",
        "def get_blank_position(state):\n",
        "    \"\"\"Return the position of the blank tile in the current state\"\"\"\n",
        "    for i in range(3):\n",
        "        for j in range(3):\n",
        "            if state[i][j] == 0:\n",
        "                return i, j\n",
        "\n",
        "def move_up(state):\n",
        "    \"\"\"Move the blank tile up in the current state\"\"\"\n",
        "    row, col = get_blank_position(state)\n",
        "    if row == 0:\n",
        "        return None\n",
        "    new_state = copy.deepcopy(state)\n",
        "    new_state[row][col], new_state[row-1][col] = new_state[row-1][col], new_state[row][col]\n",
        "    return new_state\n",
        "\n",
        "def move_down(state):\n",
        "    \"\"\"Move the blank tile down in the current state\"\"\"\n",
        "    row, col = get_blank_position(state)\n",
        "    if row == 2:\n",
        "        return None\n",
        "    new_state = copy.deepcopy(state)\n",
        "    new_state[row][col], new_state[row+1][col] = new_state[row+1][col], new_state[row][col]\n",
        "    return new_state\n",
        "\n",
        "def move_left(state):\n",
        "    \"\"\"Move the blank tile left in the current state\"\"\"\n",
        "    row, col = get_blank_position(state)\n",
        "    if col == 0:\n",
        "        return None\n",
        "    new_state = copy.deepcopy(state)\n",
        "    new_state[row][col], new_state[row][col-1] = new_state[row][col-1], new_state[row][col]\n",
        "    return new_state\n",
        "\n",
        "def move_right(state):\n",
        "    \"\"\"Move the blank tile right in the current state\"\"\"\n",
        "    row, col = get_blank_position(state)\n",
        "    if col == 2:\n",
        "        return None\n",
        "    new_state = copy.deepcopy(state)\n",
        "    new_state[row][col], new_state[row][col+1] = new_state[row][col+1], new_state[row][col]\n",
        "    return new_state\n",
        "\n",
        "def bfs_search(initial_state):\n",
        "    \"\"\"Perform a BFS search to find the goal state\"\"\"\n",
        "    visited = []\n",
        "    queue = Queue()\n",
        "    queue.put((initial_state, []))\n",
        "    while not queue.empty():\n",
        "        state, path = queue.get()\n",
        "        if state == GOAL_STATE:\n",
        "            return path + [state]\n",
        "        visited.append(state)\n",
        "        successors = [move_up(state), move_down(state), move_left(state), move_right(state)]\n",
        "        for successor in successors:\n",
        "            if successor is not None and successor not in visited:\n",
        "                queue.put((successor, path + [state]))\n",
        "    return None\n",
        "\n",
        "def game(initial_state):\n",
        "    print(\"Initial state:\")\n",
        "    display_state(initial_state)\n",
        "    solution = bfs_search(initial_state)\n",
        "    if solution is not None:\n",
        "        print(\"Goal state found!\")\n",
        "        print(\"Solution:\")\n",
        "        for state in solution:\n",
        "            display_state(state)\n",
        "    else:\n",
        "        print(\"Goal state not found.\")\n",
        "\n",
        "if __name__ == \"__main__\":\n",
        "    \n",
        "    initial_state = [[1, 2, 3], [4, 5, 6], [0, 7, 8]]\n",
        "    game(initial_state)\n"
      ]
    }
  ]
}